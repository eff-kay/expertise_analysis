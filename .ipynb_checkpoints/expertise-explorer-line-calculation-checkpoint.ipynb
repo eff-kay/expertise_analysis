{
 "cells": [
  {
   "cell_type": "code",
   "execution_count": 2,
   "metadata": {},
   "outputs": [],
   "source": [
    "import pandas as pd\n",
    "import numpy as np\n",
    "from matplotlib import pyplot as pt\n",
    "import json\n",
    "pd.set_option('display.max_columns', 20)\n",
    "pd.set_option('display.max_rows', 20)\n",
    "pd.set_option('display.max_colwidth', -1)"
   ]
  },
  {
   "cell_type": "code",
   "execution_count": 447,
   "metadata": {},
   "outputs": [],
   "source": [
    "import pickle\n",
    "df = pd.read_pickle(\"projectData/authorExperienceLinesMatrix.p\")\n",
    "df = pd.DataFrame(df, columns=['author', 'commit', 'linesAdded'])\n",
    "df=df.sort_index(axis=0 ,ascending=False)\n",
    "df= df.reset_index(drop=True)"
   ]
  },
  {
   "cell_type": "code",
   "execution_count": 448,
   "metadata": {},
   "outputs": [
    {
     "data": {
      "text/html": [
       "<div>\n",
       "<style scoped>\n",
       "    .dataframe tbody tr th:only-of-type {\n",
       "        vertical-align: middle;\n",
       "    }\n",
       "\n",
       "    .dataframe tbody tr th {\n",
       "        vertical-align: top;\n",
       "    }\n",
       "\n",
       "    .dataframe thead th {\n",
       "        text-align: right;\n",
       "    }\n",
       "</style>\n",
       "<table border=\"1\" class=\"dataframe\">\n",
       "  <thead>\n",
       "    <tr style=\"text-align: right;\">\n",
       "      <th></th>\n",
       "      <th>author</th>\n",
       "      <th>commit</th>\n",
       "      <th>linesAdded</th>\n",
       "      <th>linesSum</th>\n",
       "    </tr>\n",
       "  </thead>\n",
       "  <tbody>\n",
       "    <tr>\n",
       "      <th>0</th>\n",
       "      <td>Owen O'Malley</td>\n",
       "      <td>5128a9a453d64bfe1ed978cf9ffed27985eeef36</td>\n",
       "      <td>67543</td>\n",
       "      <td>67543</td>\n",
       "    </tr>\n",
       "    <tr>\n",
       "      <th>1</th>\n",
       "      <td>Owen O'Malley</td>\n",
       "      <td>c94ff0f240de583311c1bd73cf41d113ade75ebf</td>\n",
       "      <td>13948</td>\n",
       "      <td>81491</td>\n",
       "    </tr>\n",
       "    <tr>\n",
       "      <th>2</th>\n",
       "      <td>Owen O'Malley</td>\n",
       "      <td>abe7be913432053f6d419ea4ca4f9cd2be938bc7</td>\n",
       "      <td>319738</td>\n",
       "      <td>401229</td>\n",
       "    </tr>\n",
       "    <tr>\n",
       "      <th>3</th>\n",
       "      <td>Owen O'Malley</td>\n",
       "      <td>cab0a4bf543f58600ae8499f5b219a452f89c827</td>\n",
       "      <td>29719</td>\n",
       "      <td>430948</td>\n",
       "    </tr>\n",
       "    <tr>\n",
       "      <th>4</th>\n",
       "      <td>Owen O'Malley</td>\n",
       "      <td>c967cef4d3b82bf05f09ff03ff50243e0a81db26</td>\n",
       "      <td>78824</td>\n",
       "      <td>509772</td>\n",
       "    </tr>\n",
       "  </tbody>\n",
       "</table>\n",
       "</div>"
      ],
      "text/plain": [
       "          author                                    commit  linesAdded  \\\n",
       "0  Owen O'Malley  5128a9a453d64bfe1ed978cf9ffed27985eeef36  67543        \n",
       "1  Owen O'Malley  c94ff0f240de583311c1bd73cf41d113ade75ebf  13948        \n",
       "2  Owen O'Malley  abe7be913432053f6d419ea4ca4f9cd2be938bc7  319738       \n",
       "3  Owen O'Malley  cab0a4bf543f58600ae8499f5b219a452f89c827  29719        \n",
       "4  Owen O'Malley  c967cef4d3b82bf05f09ff03ff50243e0a81db26  78824        \n",
       "\n",
       "   linesSum  \n",
       "0  67543     \n",
       "1  81491     \n",
       "2  401229    \n",
       "3  430948    \n",
       "4  509772    "
      ]
     },
     "execution_count": 448,
     "metadata": {},
     "output_type": "execute_result"
    }
   ],
   "source": [
    "commits = df.commit\n",
    "commits = commits.apply(lambda x: x[:-1])\n",
    "df.commit = commits\n",
    "df.linesAdded = df.linesAdded.transform(lambda x:int(x))\n",
    "df[['linesSum']]= pd.DataFrame(df.groupby('author')['linesAdded'].cumsum())\n",
    "\n",
    "experienceCommits = df\n",
    "experienceCommits.head()"
   ]
  },
  {
   "cell_type": "code",
   "execution_count": 463,
   "metadata": {},
   "outputs": [],
   "source": [
    "df = pd.read_pickle(\"projectData/defectAuthorMatrix.p\")\n",
    "dF = pd.DataFrame(df, columns= [\"parentCommit\", \"file\", \"lineNumber\", \"author\", \"implicated\"])"
   ]
  },
  {
   "cell_type": "code",
   "execution_count": 464,
   "metadata": {},
   "outputs": [],
   "source": [
    "hadoop1000Matrix = pd.read_pickle(\"projectData/defectAuthorMatrixForHADOOP1000.p\")\n",
    "hadoop1000 = pd.DataFrame(hadoop1000Matrix, columns= [\"parentCommit\", \"file\", \"lineNumber\", \"author\", \"implicated\"])"
   ]
  },
  {
   "cell_type": "code",
   "execution_count": 465,
   "metadata": {},
   "outputs": [],
   "source": [
    "hadoop2000Matrix = pd.read_pickle(\"projectData/defectAuthorMatrixForHADOOP2000.p\")\n",
    "hadoop2000 = pd.DataFrame(hadoop1000Matrix, columns= [\"parentCommit\", \"file\", \"lineNumber\", \"author\", \"implicated\"])"
   ]
  },
  {
   "cell_type": "code",
   "execution_count": 466,
   "metadata": {},
   "outputs": [],
   "source": [
    "hdfsMatrix = pd.read_pickle(\"projectData/defectAuthorMatrixForHDFS.p\")\n",
    "hdfs = pd.DataFrame(hdfsMatrix, columns= [\"parentCommit\", \"file\", \"lineNumber\", \"author\", \"implicated\"])"
   ]
  },
  {
   "cell_type": "code",
   "execution_count": 467,
   "metadata": {},
   "outputs": [],
   "source": [
    "hdfs2000Matrix = pd.read_pickle(\"projectData/defectAuthorMatrixForHDFS2000.p\")\n",
    "hdfs2000 = pd.DataFrame(hdfs2000Matrix, columns= [\"parentCommit\", \"file\", \"lineNumber\", \"author\", \"implicated\"])"
   ]
  },
  {
   "cell_type": "code",
   "execution_count": 468,
   "metadata": {},
   "outputs": [],
   "source": [
    "hdfs1000Matrix = pd.read_pickle(\"projectData/defectAuthorMatrixForHDFS1000.p\")\n",
    "hdfs1000 = pd.DataFrame(hdfs1000Matrix, columns= [\"parentCommit\", \"file\", \"lineNumber\", \"author\", \"implicated\"])"
   ]
  },
  {
   "cell_type": "code",
   "execution_count": 469,
   "metadata": {},
   "outputs": [],
   "source": [
    "yarnMatrix = pd.read_pickle(\"projectData/defectAuthorMatrixForYARN.p\")\n",
    "yarn = pd.DataFrame(yarnMatrix, columns= [\"parentCommit\", \"file\", \"lineNumber\", \"author\", \"implicated\"])"
   ]
  },
  {
   "cell_type": "code",
   "execution_count": 470,
   "metadata": {},
   "outputs": [],
   "source": [
    "yarn1000Matrix = pd.read_pickle(\"projectData/defectAuthorMatrixForYARN1000.p\")\n",
    "yarn1000 = pd.DataFrame(yarn1000Matrix, columns= [\"parentCommit\", \"file\", \"lineNumber\", \"author\", \"implicated\"])"
   ]
  },
  {
   "cell_type": "code",
   "execution_count": 471,
   "metadata": {},
   "outputs": [],
   "source": [
    "mapreduceMatrix = pd.read_pickle(\"projectData/defectAuthorMatrixForMAPREDUCE.p\")\n",
    "mapreduce = pd.DataFrame(mapreduceMatrix, columns= [\"parentCommit\", \"file\", \"lineNumber\", \"author\", \"implicated\"])"
   ]
  },
  {
   "cell_type": "code",
   "execution_count": 472,
   "metadata": {},
   "outputs": [],
   "source": [
    "mapreduce1000Matrix = pd.read_pickle(\"projectData/defectAuthorMatrixForMAPREDUCE1000.p\")\n",
    "mapreduce1000 = pd.DataFrame(mapreduce1000Matrix, columns= [\"parentCommit\", \"file\", \"lineNumber\", \"author\", \"implicated\"])"
   ]
  },
  {
   "cell_type": "code",
   "execution_count": 473,
   "metadata": {},
   "outputs": [],
   "source": [
    "dF=pd.concat([dF, hadoop1000, hdfs, hdfs2000, hdfs1000, yarn, yarn1000, mapreduce, mapreduce1000])"
   ]
  },
  {
   "cell_type": "code",
   "execution_count": 474,
   "metadata": {},
   "outputs": [
    {
     "data": {
      "text/html": [
       "<div>\n",
       "<style scoped>\n",
       "    .dataframe tbody tr th:only-of-type {\n",
       "        vertical-align: middle;\n",
       "    }\n",
       "\n",
       "    .dataframe tbody tr th {\n",
       "        vertical-align: top;\n",
       "    }\n",
       "\n",
       "    .dataframe thead th {\n",
       "        text-align: right;\n",
       "    }\n",
       "</style>\n",
       "<table border=\"1\" class=\"dataframe\">\n",
       "  <thead>\n",
       "    <tr style=\"text-align: right;\">\n",
       "      <th></th>\n",
       "      <th>parentCommit</th>\n",
       "      <th>file</th>\n",
       "      <th>lineNumber</th>\n",
       "      <th>author</th>\n",
       "      <th>implicated</th>\n",
       "    </tr>\n",
       "  </thead>\n",
       "  <tbody>\n",
       "    <tr>\n",
       "      <th>595</th>\n",
       "      <td>504b801ca0e7fd3944872d3214539feb2d614f06</td>\n",
       "      <td>mapreduce/src/test/mapred/org/apache/hadoop/mapred/TestMapRed.java</td>\n",
       "      <td>296</td>\n",
       "      <td>Todd Lipcon</td>\n",
       "      <td>a196766ea07775f18ded69bd9e8d239f8cfd3ccc</td>\n",
       "    </tr>\n",
       "    <tr>\n",
       "      <th>596</th>\n",
       "      <td>504b801ca0e7fd3944872d3214539feb2d614f06</td>\n",
       "      <td>mapreduce/src/test/mapred/org/apache/hadoop/mapreduce/security/TestBinaryTokenFile.java</td>\n",
       "      <td>181</td>\n",
       "      <td>Todd Lipcon</td>\n",
       "      <td>a196766ea07775f18ded69bd9e8d239f8cfd3ccc</td>\n",
       "    </tr>\n",
       "    <tr>\n",
       "      <th>597</th>\n",
       "      <td>504b801ca0e7fd3944872d3214539feb2d614f06</td>\n",
       "      <td>mapreduce/src/test/mapred/org/apache/hadoop/mapreduce/security/TestTokenCache.java</td>\n",
       "      <td>227</td>\n",
       "      <td>Todd Lipcon</td>\n",
       "      <td>a196766ea07775f18ded69bd9e8d239f8cfd3ccc</td>\n",
       "    </tr>\n",
       "    <tr>\n",
       "      <th>598</th>\n",
       "      <td>504b801ca0e7fd3944872d3214539feb2d614f06</td>\n",
       "      <td>mapreduce/src/test/mapred/org/apache/hadoop/mapreduce/security/TestTokenCache.java</td>\n",
       "      <td>230</td>\n",
       "      <td>Todd Lipcon</td>\n",
       "      <td>a196766ea07775f18ded69bd9e8d239f8cfd3ccc</td>\n",
       "    </tr>\n",
       "    <tr>\n",
       "      <th>599</th>\n",
       "      <td>504b801ca0e7fd3944872d3214539feb2d614f06</td>\n",
       "      <td>mapreduce/src/test/mapred/org/apache/hadoop/security/TestMapredGroupMappingServiceRefresh.java</td>\n",
       "      <td>111</td>\n",
       "      <td>Todd Lipcon</td>\n",
       "      <td>a196766ea07775f18ded69bd9e8d239f8cfd3ccc</td>\n",
       "    </tr>\n",
       "  </tbody>\n",
       "</table>\n",
       "</div>"
      ],
      "text/plain": [
       "                                 parentCommit  \\\n",
       "595  504b801ca0e7fd3944872d3214539feb2d614f06   \n",
       "596  504b801ca0e7fd3944872d3214539feb2d614f06   \n",
       "597  504b801ca0e7fd3944872d3214539feb2d614f06   \n",
       "598  504b801ca0e7fd3944872d3214539feb2d614f06   \n",
       "599  504b801ca0e7fd3944872d3214539feb2d614f06   \n",
       "\n",
       "                                                                                               file  \\\n",
       "595  mapreduce/src/test/mapred/org/apache/hadoop/mapred/TestMapRed.java                               \n",
       "596  mapreduce/src/test/mapred/org/apache/hadoop/mapreduce/security/TestBinaryTokenFile.java          \n",
       "597  mapreduce/src/test/mapred/org/apache/hadoop/mapreduce/security/TestTokenCache.java               \n",
       "598  mapreduce/src/test/mapred/org/apache/hadoop/mapreduce/security/TestTokenCache.java               \n",
       "599  mapreduce/src/test/mapred/org/apache/hadoop/security/TestMapredGroupMappingServiceRefresh.java   \n",
       "\n",
       "     lineNumber       author                                implicated  \n",
       "595  296         Todd Lipcon  a196766ea07775f18ded69bd9e8d239f8cfd3ccc  \n",
       "596  181         Todd Lipcon  a196766ea07775f18ded69bd9e8d239f8cfd3ccc  \n",
       "597  227         Todd Lipcon  a196766ea07775f18ded69bd9e8d239f8cfd3ccc  \n",
       "598  230         Todd Lipcon  a196766ea07775f18ded69bd9e8d239f8cfd3ccc  \n",
       "599  111         Todd Lipcon  a196766ea07775f18ded69bd9e8d239f8cfd3ccc  "
      ]
     },
     "execution_count": 474,
     "metadata": {},
     "output_type": "execute_result"
    }
   ],
   "source": [
    "dF.tail()"
   ]
  },
  {
   "cell_type": "code",
   "execution_count": 477,
   "metadata": {},
   "outputs": [
    {
     "data": {
      "text/html": [
       "<div>\n",
       "<style scoped>\n",
       "    .dataframe tbody tr th:only-of-type {\n",
       "        vertical-align: middle;\n",
       "    }\n",
       "\n",
       "    .dataframe tbody tr th {\n",
       "        vertical-align: top;\n",
       "    }\n",
       "\n",
       "    .dataframe thead th {\n",
       "        text-align: right;\n",
       "    }\n",
       "</style>\n",
       "<table border=\"1\" class=\"dataframe\">\n",
       "  <thead>\n",
       "    <tr style=\"text-align: right;\">\n",
       "      <th></th>\n",
       "      <th>parentCommit</th>\n",
       "      <th>file</th>\n",
       "      <th>lineNumber</th>\n",
       "      <th>author</th>\n",
       "      <th>implicated</th>\n",
       "    </tr>\n",
       "  </thead>\n",
       "  <tbody>\n",
       "    <tr>\n",
       "      <th>0</th>\n",
       "      <td>12f83b380a9bf55f793cc166f495ff543296e1dc</td>\n",
       "      <td>hadoop-hdfs-project/hadoop-hdfs/src/test/java/org/apache/hadoop/hdfs/server/namenode/TestEditLog.java</td>\n",
       "      <td>295</td>\n",
       "      <td>Todd Lipcon</td>\n",
       "      <td>28e6a4e44a3e920dcaf858f9a74a6358226b3a63</td>\n",
       "    </tr>\n",
       "    <tr>\n",
       "      <th>1</th>\n",
       "      <td>12f83b380a9bf55f793cc166f495ff543296e1dc</td>\n",
       "      <td>hadoop-hdfs-project/hadoop-hdfs/src/test/java/org/apache/hadoop/hdfs/server/namenode/TestEditLog.java</td>\n",
       "      <td>291</td>\n",
       "      <td>Todd Lipcon</td>\n",
       "      <td>a196766ea07775f18ded69bd9e8d239f8cfd3ccc</td>\n",
       "    </tr>\n",
       "    <tr>\n",
       "      <th>2</th>\n",
       "      <td>12f83b380a9bf55f793cc166f495ff543296e1dc</td>\n",
       "      <td>hadoop-hdfs-project/hadoop-hdfs/src/test/java/org/apache/hadoop/hdfs/server/namenode/TestEditLog.java</td>\n",
       "      <td>278</td>\n",
       "      <td>Todd Lipcon</td>\n",
       "      <td>a196766ea07775f18ded69bd9e8d239f8cfd3ccc</td>\n",
       "    </tr>\n",
       "    <tr>\n",
       "      <th>3</th>\n",
       "      <td>12f83b380a9bf55f793cc166f495ff543296e1dc</td>\n",
       "      <td>hadoop-hdfs-project/hadoop-hdfs/src/test/java/org/apache/hadoop/hdfs/server/namenode/TestEditLog.java</td>\n",
       "      <td>130</td>\n",
       "      <td>Todd Lipcon</td>\n",
       "      <td>a196766ea07775f18ded69bd9e8d239f8cfd3ccc</td>\n",
       "    </tr>\n",
       "    <tr>\n",
       "      <th>4</th>\n",
       "      <td>12f83b380a9bf55f793cc166f495ff543296e1dc</td>\n",
       "      <td>hadoop-hdfs-project/hadoop-hdfs/src/test/java/org/apache/hadoop/hdfs/server/namenode/TestEditLog.java</td>\n",
       "      <td>129</td>\n",
       "      <td>Todd Lipcon</td>\n",
       "      <td>a196766ea07775f18ded69bd9e8d239f8cfd3ccc</td>\n",
       "    </tr>\n",
       "  </tbody>\n",
       "</table>\n",
       "</div>"
      ],
      "text/plain": [
       "                               parentCommit  \\\n",
       "0  12f83b380a9bf55f793cc166f495ff543296e1dc   \n",
       "1  12f83b380a9bf55f793cc166f495ff543296e1dc   \n",
       "2  12f83b380a9bf55f793cc166f495ff543296e1dc   \n",
       "3  12f83b380a9bf55f793cc166f495ff543296e1dc   \n",
       "4  12f83b380a9bf55f793cc166f495ff543296e1dc   \n",
       "\n",
       "                                                                                                    file  \\\n",
       "0  hadoop-hdfs-project/hadoop-hdfs/src/test/java/org/apache/hadoop/hdfs/server/namenode/TestEditLog.java   \n",
       "1  hadoop-hdfs-project/hadoop-hdfs/src/test/java/org/apache/hadoop/hdfs/server/namenode/TestEditLog.java   \n",
       "2  hadoop-hdfs-project/hadoop-hdfs/src/test/java/org/apache/hadoop/hdfs/server/namenode/TestEditLog.java   \n",
       "3  hadoop-hdfs-project/hadoop-hdfs/src/test/java/org/apache/hadoop/hdfs/server/namenode/TestEditLog.java   \n",
       "4  hadoop-hdfs-project/hadoop-hdfs/src/test/java/org/apache/hadoop/hdfs/server/namenode/TestEditLog.java   \n",
       "\n",
       "   lineNumber       author                                implicated  \n",
       "0  295         Todd Lipcon  28e6a4e44a3e920dcaf858f9a74a6358226b3a63  \n",
       "1  291         Todd Lipcon  a196766ea07775f18ded69bd9e8d239f8cfd3ccc  \n",
       "2  278         Todd Lipcon  a196766ea07775f18ded69bd9e8d239f8cfd3ccc  \n",
       "3  130         Todd Lipcon  a196766ea07775f18ded69bd9e8d239f8cfd3ccc  \n",
       "4  129         Todd Lipcon  a196766ea07775f18ded69bd9e8d239f8cfd3ccc  "
      ]
     },
     "execution_count": 477,
     "metadata": {},
     "output_type": "execute_result"
    }
   ],
   "source": [
    "dF=dF.sort_index(axis=0 ,ascending=False)\n",
    "dF= dF.reset_index(drop=True)\n",
    "dF.head()"
   ]
  },
  {
   "cell_type": "code",
   "execution_count": 478,
   "metadata": {},
   "outputs": [
    {
     "data": {
      "text/html": [
       "<div>\n",
       "<style scoped>\n",
       "    .dataframe tbody tr th:only-of-type {\n",
       "        vertical-align: middle;\n",
       "    }\n",
       "\n",
       "    .dataframe tbody tr th {\n",
       "        vertical-align: top;\n",
       "    }\n",
       "\n",
       "    .dataframe thead th {\n",
       "        text-align: right;\n",
       "    }\n",
       "</style>\n",
       "<table border=\"1\" class=\"dataframe\">\n",
       "  <thead>\n",
       "    <tr style=\"text-align: right;\">\n",
       "      <th></th>\n",
       "      <th>parentCommit</th>\n",
       "      <th>file</th>\n",
       "      <th>lineNumber</th>\n",
       "      <th>author</th>\n",
       "      <th>implicated</th>\n",
       "    </tr>\n",
       "  </thead>\n",
       "  <tbody>\n",
       "    <tr>\n",
       "      <th>2370</th>\n",
       "      <td>351fac25a994de42ec1b1218513326884a1dde43</td>\n",
       "      <td>hadoop-hdfs-project/hadoop-hdfs/src/test/java/org/apache/hadoop/hdfs/server/datanode/TestDataNodeMetrics.java</td>\n",
       "      <td>32</td>\n",
       "      <td>Aaron T. Myers</td>\n",
       "      <td>3de3640e4c1172f1e47565ac61a1f3183c354c79</td>\n",
       "    </tr>\n",
       "    <tr>\n",
       "      <th>7025</th>\n",
       "      <td>085841d9ac7325a19a7db878654d331adae724c3</td>\n",
       "      <td>hadoop-hdfs-project/hadoop-hdfs/src/test/java/org/apache/hadoop/hdfs/server/namenode/snapshot/TestSnapshotFileLength.java</td>\n",
       "      <td>126</td>\n",
       "      <td>Aaron T. Myers</td>\n",
       "      <td>bce3d442ff08ee1e730b0bac112439d6a6931917</td>\n",
       "    </tr>\n",
       "    <tr>\n",
       "      <th>7038</th>\n",
       "      <td>085841d9ac7325a19a7db878654d331adae724c3</td>\n",
       "      <td>hadoop-hdfs-project/hadoop-hdfs/src/test/java/org/apache/hadoop/hdfs/server/namenode/snapshot/TestSnapshotFileLength.java</td>\n",
       "      <td>125</td>\n",
       "      <td>Aaron T. Myers</td>\n",
       "      <td>bce3d442ff08ee1e730b0bac112439d6a6931917</td>\n",
       "    </tr>\n",
       "    <tr>\n",
       "      <th>7041</th>\n",
       "      <td>085841d9ac7325a19a7db878654d331adae724c3</td>\n",
       "      <td>hadoop-hdfs-project/hadoop-hdfs/src/test/java/org/apache/hadoop/hdfs/server/namenode/snapshot/TestSnapshotFileLength.java</td>\n",
       "      <td>115</td>\n",
       "      <td>Aaron T. Myers</td>\n",
       "      <td>bce3d442ff08ee1e730b0bac112439d6a6931917</td>\n",
       "    </tr>\n",
       "    <tr>\n",
       "      <th>7056</th>\n",
       "      <td>085841d9ac7325a19a7db878654d331adae724c3</td>\n",
       "      <td>hadoop-hdfs-project/hadoop-hdfs/src/test/java/org/apache/hadoop/hdfs/server/namenode/snapshot/TestSnapshotFileLength.java</td>\n",
       "      <td>114</td>\n",
       "      <td>Aaron T. Myers</td>\n",
       "      <td>bce3d442ff08ee1e730b0bac112439d6a6931917</td>\n",
       "    </tr>\n",
       "  </tbody>\n",
       "</table>\n",
       "</div>"
      ],
      "text/plain": [
       "                                  parentCommit  \\\n",
       "2370  351fac25a994de42ec1b1218513326884a1dde43   \n",
       "7025  085841d9ac7325a19a7db878654d331adae724c3   \n",
       "7038  085841d9ac7325a19a7db878654d331adae724c3   \n",
       "7041  085841d9ac7325a19a7db878654d331adae724c3   \n",
       "7056  085841d9ac7325a19a7db878654d331adae724c3   \n",
       "\n",
       "                                                                                                                           file  \\\n",
       "2370  hadoop-hdfs-project/hadoop-hdfs/src/test/java/org/apache/hadoop/hdfs/server/datanode/TestDataNodeMetrics.java               \n",
       "7025  hadoop-hdfs-project/hadoop-hdfs/src/test/java/org/apache/hadoop/hdfs/server/namenode/snapshot/TestSnapshotFileLength.java   \n",
       "7038  hadoop-hdfs-project/hadoop-hdfs/src/test/java/org/apache/hadoop/hdfs/server/namenode/snapshot/TestSnapshotFileLength.java   \n",
       "7041  hadoop-hdfs-project/hadoop-hdfs/src/test/java/org/apache/hadoop/hdfs/server/namenode/snapshot/TestSnapshotFileLength.java   \n",
       "7056  hadoop-hdfs-project/hadoop-hdfs/src/test/java/org/apache/hadoop/hdfs/server/namenode/snapshot/TestSnapshotFileLength.java   \n",
       "\n",
       "      lineNumber          author                                implicated  \n",
       "2370  32          Aaron T. Myers  3de3640e4c1172f1e47565ac61a1f3183c354c79  \n",
       "7025  126         Aaron T. Myers  bce3d442ff08ee1e730b0bac112439d6a6931917  \n",
       "7038  125         Aaron T. Myers  bce3d442ff08ee1e730b0bac112439d6a6931917  \n",
       "7041  115         Aaron T. Myers  bce3d442ff08ee1e730b0bac112439d6a6931917  \n",
       "7056  114         Aaron T. Myers  bce3d442ff08ee1e730b0bac112439d6a6931917  "
      ]
     },
     "execution_count": 478,
     "metadata": {},
     "output_type": "execute_result"
    }
   ],
   "source": [
    "authorImplicatedLines= dF.groupby('author')['implicated'].nunique()\n",
    "authorImplicatedLines\n",
    "dF[dF.author =='Aaron T. Myers']"
   ]
  },
  {
   "cell_type": "code",
   "execution_count": 479,
   "metadata": {},
   "outputs": [
    {
     "data": {
      "text/plain": [
       "implicated\n",
       "004068c3911ab2738c8e5d00b49d4b69cd42c603    8 \n",
       "00a7ebab223f2d3f566c2a431b8fc39eadfb643b    17\n",
       "016c794e75be975078a5b422e79720bbc1044028    1 \n",
       "01acf3a3af5727bfdc0a37f9caf4cf8e1be89224    7 \n",
       "01ecec1cd299aeef60fd6a90fccc6ab48e689237    1 \n",
       "Name: author, dtype: int64"
      ]
     },
     "execution_count": 479,
     "metadata": {},
     "output_type": "execute_result"
    }
   ],
   "source": [
    "implicatedLines= dF.groupby('implicated')['author'].count()\n",
    "implicatedLines.head()\n",
    "# implicatedLines[implicatedLines.index == '3de3640e4c1172f1e47565ac61a1f3183c354c79']\n",
    "# # dF[dF.author=='Aaron T. Myers']\n",
    "# try:\n",
    "#     print(implicatedLines[implicatedLines.index=='004068c3911ab2738c8e5d00b49d4b69cd42c603'][0])\n",
    "# except IndexError:\n",
    "#     print(\"no key\")"
   ]
  },
  {
   "cell_type": "code",
   "execution_count": 481,
   "metadata": {},
   "outputs": [
    {
     "name": "stdout",
     "output_type": "stream",
     "text": [
      "7363\n",
      "9662\n",
      "9662\n"
     ]
    },
    {
     "data": {
      "text/html": [
       "<div>\n",
       "<style scoped>\n",
       "    .dataframe tbody tr th:only-of-type {\n",
       "        vertical-align: middle;\n",
       "    }\n",
       "\n",
       "    .dataframe tbody tr th {\n",
       "        vertical-align: top;\n",
       "    }\n",
       "\n",
       "    .dataframe thead th {\n",
       "        text-align: right;\n",
       "    }\n",
       "</style>\n",
       "<table border=\"1\" class=\"dataframe\">\n",
       "  <thead>\n",
       "    <tr style=\"text-align: right;\">\n",
       "      <th></th>\n",
       "      <th>author</th>\n",
       "      <th>commit</th>\n",
       "      <th>linesAdded</th>\n",
       "      <th>linesSum</th>\n",
       "      <th>buggy</th>\n",
       "    </tr>\n",
       "  </thead>\n",
       "  <tbody>\n",
       "    <tr>\n",
       "      <th>0</th>\n",
       "      <td>Owen O'Malley</td>\n",
       "      <td>5128a9a453d64bfe1ed978cf9ffed27985eeef36</td>\n",
       "      <td>67543</td>\n",
       "      <td>67543</td>\n",
       "      <td>1</td>\n",
       "    </tr>\n",
       "    <tr>\n",
       "      <th>6</th>\n",
       "      <td>Giridharan Kesavan</td>\n",
       "      <td>ac670cc47f06b0eb880dcb5522a5aba187b5c67d</td>\n",
       "      <td>13605</td>\n",
       "      <td>13605</td>\n",
       "      <td>1</td>\n",
       "    </tr>\n",
       "    <tr>\n",
       "      <th>30</th>\n",
       "      <td>Tsz-wo Sze</td>\n",
       "      <td>a13237975d02b3db913b95845d4b8d6d22f2bac7</td>\n",
       "      <td>98</td>\n",
       "      <td>103</td>\n",
       "      <td>1</td>\n",
       "    </tr>\n",
       "    <tr>\n",
       "      <th>90</th>\n",
       "      <td>Christopher Douglas</td>\n",
       "      <td>f95ec3f5bf12bee07c90943cff3b135e6a7e7a8b</td>\n",
       "      <td>30</td>\n",
       "      <td>10937</td>\n",
       "      <td>1</td>\n",
       "    </tr>\n",
       "    <tr>\n",
       "      <th>95</th>\n",
       "      <td>Suresh Srinivas</td>\n",
       "      <td>cdbb724edbe093a02d4e2c24523001dcdff0ffd5</td>\n",
       "      <td>387</td>\n",
       "      <td>521</td>\n",
       "      <td>1</td>\n",
       "    </tr>\n",
       "    <tr>\n",
       "      <th>149</th>\n",
       "      <td>Suresh Srinivas</td>\n",
       "      <td>3f371a0a644181b204111ee4e12c995fc7b5e5f5</td>\n",
       "      <td>2381</td>\n",
       "      <td>8137</td>\n",
       "      <td>1</td>\n",
       "    </tr>\n",
       "    <tr>\n",
       "      <th>168</th>\n",
       "      <td>Konstantin Boudnik</td>\n",
       "      <td>929e91a08c5387c692ed3257361190b83d72f2e9</td>\n",
       "      <td>31</td>\n",
       "      <td>561</td>\n",
       "      <td>1</td>\n",
       "    </tr>\n",
       "    <tr>\n",
       "      <th>189</th>\n",
       "      <td>Boris Shkolnik</td>\n",
       "      <td>ae93ba7501d95e9d26a29de25f4cc39e5225ca20</td>\n",
       "      <td>425</td>\n",
       "      <td>425</td>\n",
       "      <td>1</td>\n",
       "    </tr>\n",
       "    <tr>\n",
       "      <th>190</th>\n",
       "      <td>Devaraj Das</td>\n",
       "      <td>fe479755c39b8259e0564de7a35389721351c76b</td>\n",
       "      <td>384</td>\n",
       "      <td>812</td>\n",
       "      <td>1</td>\n",
       "    </tr>\n",
       "    <tr>\n",
       "      <th>219</th>\n",
       "      <td>Hairong Kuang</td>\n",
       "      <td>d6f4cf3dfec03867f02bf71aa900a77676651c2a</td>\n",
       "      <td>4</td>\n",
       "      <td>227</td>\n",
       "      <td>1</td>\n",
       "    </tr>\n",
       "    <tr>\n",
       "      <th>...</th>\n",
       "      <td>...</td>\n",
       "      <td>...</td>\n",
       "      <td>...</td>\n",
       "      <td>...</td>\n",
       "      <td>...</td>\n",
       "    </tr>\n",
       "    <tr>\n",
       "      <th>9420</th>\n",
       "      <td>Jing Zhao</td>\n",
       "      <td>83d76151e279ebd3f11f7b342350816e7dca6d76</td>\n",
       "      <td>361</td>\n",
       "      <td>39321</td>\n",
       "      <td>1</td>\n",
       "    </tr>\n",
       "    <tr>\n",
       "      <th>9451</th>\n",
       "      <td>Colin Patrick Mccabe</td>\n",
       "      <td>016c794e75be975078a5b422e79720bbc1044028</td>\n",
       "      <td>16</td>\n",
       "      <td>32348</td>\n",
       "      <td>1</td>\n",
       "    </tr>\n",
       "    <tr>\n",
       "      <th>9458</th>\n",
       "      <td>Jason Lowe</td>\n",
       "      <td>df4e1e4965897d24d8a72f7da9c00a680533dac8</td>\n",
       "      <td>69</td>\n",
       "      <td>11449</td>\n",
       "      <td>1</td>\n",
       "    </tr>\n",
       "    <tr>\n",
       "      <th>9468</th>\n",
       "      <td>Vinayakumar B</td>\n",
       "      <td>55bf014a07160bf4669b3a1ac7ff925faec4982e</td>\n",
       "      <td>169</td>\n",
       "      <td>4641</td>\n",
       "      <td>1</td>\n",
       "    </tr>\n",
       "    <tr>\n",
       "      <th>9486</th>\n",
       "      <td>Jing Zhao</td>\n",
       "      <td>bed74b620ad08180e446cc6df52fe7b360c6224a</td>\n",
       "      <td>168</td>\n",
       "      <td>39679</td>\n",
       "      <td>1</td>\n",
       "    </tr>\n",
       "    <tr>\n",
       "      <th>9507</th>\n",
       "      <td>Karthik Kambatla</td>\n",
       "      <td>fc989ebe164fef01f7cbeae7149fc351d6554d72</td>\n",
       "      <td>987</td>\n",
       "      <td>29793</td>\n",
       "      <td>1</td>\n",
       "    </tr>\n",
       "    <tr>\n",
       "      <th>9561</th>\n",
       "      <td>Vinayakumar B</td>\n",
       "      <td>8ef382135684c4c1e05619f6fb6d1d2cf7093192</td>\n",
       "      <td>64</td>\n",
       "      <td>5167</td>\n",
       "      <td>1</td>\n",
       "    </tr>\n",
       "    <tr>\n",
       "      <th>9563</th>\n",
       "      <td>Wangda Tan</td>\n",
       "      <td>3dd113fa7c07b65cfcdf960dcce1ab8a526557b5</td>\n",
       "      <td>664</td>\n",
       "      <td>9322</td>\n",
       "      <td>1</td>\n",
       "    </tr>\n",
       "    <tr>\n",
       "      <th>9564</th>\n",
       "      <td>Ravi Prakash</td>\n",
       "      <td>b728edce0f904c15132726587c8ee92f901347bf</td>\n",
       "      <td>4</td>\n",
       "      <td>3674</td>\n",
       "      <td>1</td>\n",
       "    </tr>\n",
       "    <tr>\n",
       "      <th>9596</th>\n",
       "      <td>Jian He</td>\n",
       "      <td>3233284e8746552b644cdca51afe696c000c78a2</td>\n",
       "      <td>1048</td>\n",
       "      <td>52948</td>\n",
       "      <td>1</td>\n",
       "    </tr>\n",
       "  </tbody>\n",
       "</table>\n",
       "<p>649 rows × 5 columns</p>\n",
       "</div>"
      ],
      "text/plain": [
       "                    author                                    commit  \\\n",
       "0     Owen O'Malley         5128a9a453d64bfe1ed978cf9ffed27985eeef36   \n",
       "6     Giridharan Kesavan    ac670cc47f06b0eb880dcb5522a5aba187b5c67d   \n",
       "30    Tsz-wo Sze            a13237975d02b3db913b95845d4b8d6d22f2bac7   \n",
       "90    Christopher Douglas   f95ec3f5bf12bee07c90943cff3b135e6a7e7a8b   \n",
       "95    Suresh Srinivas       cdbb724edbe093a02d4e2c24523001dcdff0ffd5   \n",
       "149   Suresh Srinivas       3f371a0a644181b204111ee4e12c995fc7b5e5f5   \n",
       "168   Konstantin Boudnik    929e91a08c5387c692ed3257361190b83d72f2e9   \n",
       "189   Boris Shkolnik        ae93ba7501d95e9d26a29de25f4cc39e5225ca20   \n",
       "190   Devaraj Das           fe479755c39b8259e0564de7a35389721351c76b   \n",
       "219   Hairong Kuang         d6f4cf3dfec03867f02bf71aa900a77676651c2a   \n",
       "...             ...                                              ...   \n",
       "9420  Jing Zhao             83d76151e279ebd3f11f7b342350816e7dca6d76   \n",
       "9451  Colin Patrick Mccabe  016c794e75be975078a5b422e79720bbc1044028   \n",
       "9458  Jason Lowe            df4e1e4965897d24d8a72f7da9c00a680533dac8   \n",
       "9468  Vinayakumar B         55bf014a07160bf4669b3a1ac7ff925faec4982e   \n",
       "9486  Jing Zhao             bed74b620ad08180e446cc6df52fe7b360c6224a   \n",
       "9507  Karthik Kambatla      fc989ebe164fef01f7cbeae7149fc351d6554d72   \n",
       "9561  Vinayakumar B         8ef382135684c4c1e05619f6fb6d1d2cf7093192   \n",
       "9563  Wangda Tan            3dd113fa7c07b65cfcdf960dcce1ab8a526557b5   \n",
       "9564  Ravi Prakash          b728edce0f904c15132726587c8ee92f901347bf   \n",
       "9596  Jian He               3233284e8746552b644cdca51afe696c000c78a2   \n",
       "\n",
       "      linesAdded  linesSum  buggy  \n",
       "0     67543       67543     1      \n",
       "6     13605       13605     1      \n",
       "30    98          103       1      \n",
       "90    30          10937     1      \n",
       "95    387         521       1      \n",
       "149   2381        8137      1      \n",
       "168   31          561       1      \n",
       "189   425         425       1      \n",
       "190   384         812       1      \n",
       "219   4           227       1      \n",
       "...  ..           ...      ..      \n",
       "9420  361         39321     1      \n",
       "9451  16          32348     1      \n",
       "9458  69          11449     1      \n",
       "9468  169         4641      1      \n",
       "9486  168         39679     1      \n",
       "9507  987         29793     1      \n",
       "9561  64          5167      1      \n",
       "9563  664         9322      1      \n",
       "9564  4           3674      1      \n",
       "9596  1048        52948     1      \n",
       "\n",
       "[649 rows x 5 columns]"
      ]
     },
     "execution_count": 481,
     "metadata": {},
     "output_type": "execute_result"
    }
   ],
   "source": [
    "implicatedList = dF['implicated'].tolist()\n",
    "print(len(implicatedList))\n",
    "tempList=[]\n",
    "commits=experienceCommits['commit'].tolist()\n",
    "print(len(commits))\n",
    "for x in commits:\n",
    "    if x in implicatedList:\n",
    "        tempList.append([x, True])  \n",
    "    else:\n",
    "        tempList.append([x, False])  \n",
    "        \n",
    "print(len(tempList))\n",
    "s=pd.DataFrame(tempList, columns=['commit', 'buggy'])\n",
    "experienceCommits[['buggy']]=pd.DataFrame(s['buggy'])\n",
    "experienceCommits['buggy'] = experienceCommits.buggy.astype(int)\n",
    "# experienceCommits['buggLines']=0 \n",
    "experienceCommits[experienceCommits['buggy']==1] "
   ]
  },
  {
   "cell_type": "code",
   "execution_count": 482,
   "metadata": {},
   "outputs": [],
   "source": [
    "tempList=[]\n",
    "for x in commits:\n",
    "    try:\n",
    "        tempList.append(implicatedLines[implicatedLines.index==x][0])\n",
    "    except IndexError:\n",
    "        tempList.append(0)"
   ]
  },
  {
   "cell_type": "code",
   "execution_count": 483,
   "metadata": {},
   "outputs": [
    {
     "data": {
      "text/html": [
       "<div>\n",
       "<style scoped>\n",
       "    .dataframe tbody tr th:only-of-type {\n",
       "        vertical-align: middle;\n",
       "    }\n",
       "\n",
       "    .dataframe tbody tr th {\n",
       "        vertical-align: top;\n",
       "    }\n",
       "\n",
       "    .dataframe thead th {\n",
       "        text-align: right;\n",
       "    }\n",
       "</style>\n",
       "<table border=\"1\" class=\"dataframe\">\n",
       "  <thead>\n",
       "    <tr style=\"text-align: right;\">\n",
       "      <th></th>\n",
       "      <th>author</th>\n",
       "      <th>commit</th>\n",
       "      <th>linesAdded</th>\n",
       "      <th>linesSum</th>\n",
       "      <th>buggy</th>\n",
       "      <th>buggyLines</th>\n",
       "      <th>buggyLinesSum</th>\n",
       "    </tr>\n",
       "  </thead>\n",
       "  <tbody>\n",
       "    <tr>\n",
       "      <th>6998</th>\n",
       "      <td>Aaron T. Myers</td>\n",
       "      <td>135315b66fba5d248a983ad5d05d7ab7da42b5fb</td>\n",
       "      <td>245</td>\n",
       "      <td>245</td>\n",
       "      <td>0</td>\n",
       "      <td>0</td>\n",
       "      <td>0</td>\n",
       "    </tr>\n",
       "    <tr>\n",
       "      <th>7109</th>\n",
       "      <td>Aaron T. Myers</td>\n",
       "      <td>a0c54aeb00c0bc38f7dfa3615ce6866023d1ef74</td>\n",
       "      <td>2550</td>\n",
       "      <td>2795</td>\n",
       "      <td>0</td>\n",
       "      <td>0</td>\n",
       "      <td>0</td>\n",
       "    </tr>\n",
       "    <tr>\n",
       "      <th>7159</th>\n",
       "      <td>Aaron T. Myers</td>\n",
       "      <td>71e6a4a735222c25bd0be7f6811863613ece3114</td>\n",
       "      <td>4</td>\n",
       "      <td>2799</td>\n",
       "      <td>0</td>\n",
       "      <td>0</td>\n",
       "      <td>0</td>\n",
       "    </tr>\n",
       "    <tr>\n",
       "      <th>7351</th>\n",
       "      <td>Aaron T. Myers</td>\n",
       "      <td>afaadd65359ba54be38a118bfb5dcf4174416a27</td>\n",
       "      <td>52</td>\n",
       "      <td>2851</td>\n",
       "      <td>0</td>\n",
       "      <td>0</td>\n",
       "      <td>0</td>\n",
       "    </tr>\n",
       "    <tr>\n",
       "      <th>7365</th>\n",
       "      <td>Aaron T. Myers</td>\n",
       "      <td>8cbacb37e9d4aa1a7dcc87a7aef7915ef72a1be6</td>\n",
       "      <td>10</td>\n",
       "      <td>2861</td>\n",
       "      <td>0</td>\n",
       "      <td>0</td>\n",
       "      <td>0</td>\n",
       "    </tr>\n",
       "    <tr>\n",
       "      <th>7392</th>\n",
       "      <td>Aaron T. Myers</td>\n",
       "      <td>f3132eee1011b750158169c099b26ce8f6e2d1f4</td>\n",
       "      <td>155</td>\n",
       "      <td>3016</td>\n",
       "      <td>0</td>\n",
       "      <td>0</td>\n",
       "      <td>0</td>\n",
       "    </tr>\n",
       "    <tr>\n",
       "      <th>7638</th>\n",
       "      <td>Aaron T. Myers</td>\n",
       "      <td>9082fe4e206692695ae877d27c19cac87f6481dc</td>\n",
       "      <td>1262</td>\n",
       "      <td>4278</td>\n",
       "      <td>0</td>\n",
       "      <td>0</td>\n",
       "      <td>0</td>\n",
       "    </tr>\n",
       "    <tr>\n",
       "      <th>7639</th>\n",
       "      <td>Aaron T. Myers</td>\n",
       "      <td>e96f0c6aae7dffc2079ffd6ff863433e96724670</td>\n",
       "      <td>142</td>\n",
       "      <td>4420</td>\n",
       "      <td>0</td>\n",
       "      <td>0</td>\n",
       "      <td>0</td>\n",
       "    </tr>\n",
       "    <tr>\n",
       "      <th>7641</th>\n",
       "      <td>Aaron T. Myers</td>\n",
       "      <td>d698ed1d6f641a7377c1600ebe7a33757936a2b1</td>\n",
       "      <td>49</td>\n",
       "      <td>4469</td>\n",
       "      <td>0</td>\n",
       "      <td>0</td>\n",
       "      <td>0</td>\n",
       "    </tr>\n",
       "    <tr>\n",
       "      <th>7743</th>\n",
       "      <td>Aaron T. Myers</td>\n",
       "      <td>d35eba7b1ff98e2e542a6c6c5b389fcc20d885c7</td>\n",
       "      <td>331</td>\n",
       "      <td>4800</td>\n",
       "      <td>0</td>\n",
       "      <td>0</td>\n",
       "      <td>0</td>\n",
       "    </tr>\n",
       "    <tr>\n",
       "      <th>7779</th>\n",
       "      <td>Aaron T. Myers</td>\n",
       "      <td>3de3640e4c1172f1e47565ac61a1f3183c354c79</td>\n",
       "      <td>94</td>\n",
       "      <td>4894</td>\n",
       "      <td>1</td>\n",
       "      <td>1</td>\n",
       "      <td>1</td>\n",
       "    </tr>\n",
       "    <tr>\n",
       "      <th>7836</th>\n",
       "      <td>Aaron T. Myers</td>\n",
       "      <td>534a021e70ac2764617eeaf9dd8f93c7683a0b68</td>\n",
       "      <td>8</td>\n",
       "      <td>4902</td>\n",
       "      <td>0</td>\n",
       "      <td>0</td>\n",
       "      <td>1</td>\n",
       "    </tr>\n",
       "    <tr>\n",
       "      <th>7941</th>\n",
       "      <td>Aaron T. Myers</td>\n",
       "      <td>66808e6aace205a85b614e3d75803ec2cd05260a</td>\n",
       "      <td>2</td>\n",
       "      <td>4904</td>\n",
       "      <td>0</td>\n",
       "      <td>0</td>\n",
       "      <td>1</td>\n",
       "    </tr>\n",
       "    <tr>\n",
       "      <th>8143</th>\n",
       "      <td>Aaron T. Myers</td>\n",
       "      <td>3c8d3816c67d5309c56f2ee08876967e34b65ab6</td>\n",
       "      <td>5</td>\n",
       "      <td>4909</td>\n",
       "      <td>0</td>\n",
       "      <td>0</td>\n",
       "      <td>1</td>\n",
       "    </tr>\n",
       "    <tr>\n",
       "      <th>8449</th>\n",
       "      <td>Aaron T. Myers</td>\n",
       "      <td>bce3d442ff08ee1e730b0bac112439d6a6931917</td>\n",
       "      <td>28</td>\n",
       "      <td>4937</td>\n",
       "      <td>1</td>\n",
       "      <td>4</td>\n",
       "      <td>5</td>\n",
       "    </tr>\n",
       "    <tr>\n",
       "      <th>8551</th>\n",
       "      <td>Aaron T. Myers</td>\n",
       "      <td>85473cd61a37a9b7614805bd83507cabe85eaeb0</td>\n",
       "      <td>23</td>\n",
       "      <td>4960</td>\n",
       "      <td>0</td>\n",
       "      <td>0</td>\n",
       "      <td>5</td>\n",
       "    </tr>\n",
       "    <tr>\n",
       "      <th>8760</th>\n",
       "      <td>Aaron T. Myers</td>\n",
       "      <td>edf2f52d6d2b0fd7f0ea5a63401a8affeb976949</td>\n",
       "      <td>46</td>\n",
       "      <td>5006</td>\n",
       "      <td>0</td>\n",
       "      <td>0</td>\n",
       "      <td>5</td>\n",
       "    </tr>\n",
       "  </tbody>\n",
       "</table>\n",
       "</div>"
      ],
      "text/plain": [
       "              author                                    commit  linesAdded  \\\n",
       "6998  Aaron T. Myers  135315b66fba5d248a983ad5d05d7ab7da42b5fb  245          \n",
       "7109  Aaron T. Myers  a0c54aeb00c0bc38f7dfa3615ce6866023d1ef74  2550         \n",
       "7159  Aaron T. Myers  71e6a4a735222c25bd0be7f6811863613ece3114  4            \n",
       "7351  Aaron T. Myers  afaadd65359ba54be38a118bfb5dcf4174416a27  52           \n",
       "7365  Aaron T. Myers  8cbacb37e9d4aa1a7dcc87a7aef7915ef72a1be6  10           \n",
       "7392  Aaron T. Myers  f3132eee1011b750158169c099b26ce8f6e2d1f4  155          \n",
       "7638  Aaron T. Myers  9082fe4e206692695ae877d27c19cac87f6481dc  1262         \n",
       "7639  Aaron T. Myers  e96f0c6aae7dffc2079ffd6ff863433e96724670  142          \n",
       "7641  Aaron T. Myers  d698ed1d6f641a7377c1600ebe7a33757936a2b1  49           \n",
       "7743  Aaron T. Myers  d35eba7b1ff98e2e542a6c6c5b389fcc20d885c7  331          \n",
       "7779  Aaron T. Myers  3de3640e4c1172f1e47565ac61a1f3183c354c79  94           \n",
       "7836  Aaron T. Myers  534a021e70ac2764617eeaf9dd8f93c7683a0b68  8            \n",
       "7941  Aaron T. Myers  66808e6aace205a85b614e3d75803ec2cd05260a  2            \n",
       "8143  Aaron T. Myers  3c8d3816c67d5309c56f2ee08876967e34b65ab6  5            \n",
       "8449  Aaron T. Myers  bce3d442ff08ee1e730b0bac112439d6a6931917  28           \n",
       "8551  Aaron T. Myers  85473cd61a37a9b7614805bd83507cabe85eaeb0  23           \n",
       "8760  Aaron T. Myers  edf2f52d6d2b0fd7f0ea5a63401a8affeb976949  46           \n",
       "\n",
       "      linesSum  buggy  buggyLines  buggyLinesSum  \n",
       "6998  245       0      0           0              \n",
       "7109  2795      0      0           0              \n",
       "7159  2799      0      0           0              \n",
       "7351  2851      0      0           0              \n",
       "7365  2861      0      0           0              \n",
       "7392  3016      0      0           0              \n",
       "7638  4278      0      0           0              \n",
       "7639  4420      0      0           0              \n",
       "7641  4469      0      0           0              \n",
       "7743  4800      0      0           0              \n",
       "7779  4894      1      1           1              \n",
       "7836  4902      0      0           1              \n",
       "7941  4904      0      0           1              \n",
       "8143  4909      0      0           1              \n",
       "8449  4937      1      4           5              \n",
       "8551  4960      0      0           5              \n",
       "8760  5006      0      0           5              "
      ]
     },
     "execution_count": 483,
     "metadata": {},
     "output_type": "execute_result"
    }
   ],
   "source": [
    "tempList\n",
    "s=pd.DataFrame(tempList, columns=['buggyLines'])\n",
    "experienceCommits[['buggyLines']]=pd.DataFrame(s['buggyLines'])\n",
    "experienceCommits[experienceCommits.author =='Aaron T. Myers']\n",
    "\n",
    "experienceCommits[['buggyLinesSum']]= pd.DataFrame(experienceCommits.groupby('author')['buggyLines'].cumsum())\n",
    "experienceCommits[experienceCommits.author =='Aaron T. Myers']\n",
    "        "
   ]
  },
  {
   "cell_type": "code",
   "execution_count": 484,
   "metadata": {},
   "outputs": [
    {
     "data": {
      "text/plain": [
       "[<matplotlib.lines.Line2D at 0x11db61470>]"
      ]
     },
     "execution_count": 484,
     "metadata": {},
     "output_type": "execute_result"
    },
    {
     "data": {
      "image/png": "[encoded data removed]",
      "text/plain": [
       "<Figure size 432x288 with 1 Axes>"
      ]
     },
     "metadata": {
      "needs_background": "light"
     },
     "output_type": "display_data"
    }
   ],
   "source": [
    "currentMatrix = experienceCommits[experienceCommits.author =='Aaron T. Myers']\n",
    "maxLineSum = currentMatrix.linesSum.max()\n",
    "maxLineSum\n",
    "xSeries = currentMatrix.linesSum*100/maxLineSum\n",
    "xSeries\n",
    "\n",
    "maxBuggySum = currentMatrix.buggyLinesSum.max()\n",
    "maxBuggySum\n",
    "ySeries = currentMatrix.buggyLinesSum*100/maxBuggySum\n",
    "ySeries\n",
    "\n",
    "\n",
    "pt.plot(xSeries, ySeries)"
   ]
  },
  {
   "cell_type": "code",
   "execution_count": 497,
   "metadata": {},
   "outputs": [],
   "source": [
    "data= dF.groupby('author')['implicated'].nunique()\n",
    "authorDf = pd.DataFrame(data)\n",
    "topBugyContributers= authorDf.implicated.nlargest(10)"
   ]
  },
  {
   "cell_type": "code",
   "execution_count": 503,
   "metadata": {},
   "outputs": [
    {
     "data": {
      "text/plain": [
       "Text(0.5, 1.0, 'author with most bugs, bugs/exp')"
      ]
     },
     "execution_count": 503,
     "metadata": {},
     "output_type": "execute_result"
    },
    {
     "data": {
      "image/png": "[encoded data removed]",
      "text/plain": [
       "<Figure size 432x288 with 1 Axes>"
      ]
     },
     "metadata": {
      "needs_background": "light"
     },
     "output_type": "display_data"
    }
   ],
   "source": [
    "\n",
    "tempBuggy=[]\n",
    "for author in topBugyContributers.index:\n",
    "    currentMatrix = experienceCommits[experienceCommits.author ==author]\n",
    "    maxLineSum = currentMatrix.linesSum.max()\n",
    "    maxLineSum\n",
    "    xSeries = currentMatrix.linesSum*100/maxLineSum\n",
    "    \n",
    "\n",
    "    maxBuggySum = currentMatrix.buggyLinesSum.max()\n",
    "    maxBuggySum\n",
    "    ySeries = currentMatrix.buggyLinesSum*100/maxBuggySum\n",
    "    \n",
    "    \n",
    "    pt.plot(xSeries, ySeries, label= str(author))\n",
    "    pt.legend(bbox_to_anchor=(1.05, 1), loc=2, borderaxespad=0.)\n",
    "\n",
    "pt.title(\"author with most bugs, bugs/exp\")\n",
    "# Not plotting the non buggy commits, only the buggy commits, which is why this is a smooth curve. \n",
    "# I am filtering the experience matrix first based on the buggyiness. "
   ]
  },
  {
   "cell_type": "code",
   "execution_count": 504,
   "metadata": {},
   "outputs": [
    {
     "data": {
      "text/plain": [
       "Text(0.5, 1.0, 'author with most bugs, bugs vs experience')"
      ]
     },
     "execution_count": 504,
     "metadata": {},
     "output_type": "execute_result"
    },
    {
     "data": {
      "image/png": "[encoded data removed]",
      "text/plain": [
       "<Figure size 432x288 with 1 Axes>"
      ]
     },
     "metadata": {
      "needs_background": "light"
     },
     "output_type": "display_data"
    }
   ],
   "source": [
    "for author in topBugyContributers.index:\n",
    "    currentMatrix = experienceCommits[experienceCommits.author ==author]\n",
    "    maxLineSum = currentMatrix.linesSum.max()\n",
    "    maxLineSum\n",
    "    xSeries= currentMatrix.linesSum\n",
    "\n",
    "    maxBuggySum = currentMatrix.buggyLinesSum.max()\n",
    "    maxBuggySum\n",
    "    ySeries=currentMatrix.buggyLinesSum\n",
    "    \n",
    "    pt.plot(xSeries, ySeries, label= str(author))\n",
    "    pt.legend(bbox_to_anchor=(1.05, 1), loc=2, borderaxespad=0.)\n",
    "    \n",
    "pt.title(\"author with most bugs, bugs vs experience\")"
   ]
  },
  {
   "cell_type": "code",
   "execution_count": 505,
   "metadata": {},
   "outputs": [
    {
     "data": {
      "text/plain": [
       "author\n",
       "Vinod Kumar Vavilapalli    752\n",
       "Tsz-wo Sze                 530\n",
       "Alejandro Abdelnur         426\n",
       "Eli Collins                394\n",
       "Arun Murthy                380\n",
       "Name: commit, dtype: int64"
      ]
     },
     "execution_count": 505,
     "metadata": {},
     "output_type": "execute_result"
    }
   ],
   "source": [
    "topContributors= experienceCommits.groupby('author')['commit']\n",
    "topContributors=topContributors.nunique().nlargest(5)\n",
    "topContributors\n",
    "# topContributors.columns=['somethingelse']\n",
    "# topContributors\n",
    "# tempBuggy= dF.loc[dF['author'].isin(topContributors.index)]\n",
    "# tempBuggy.groupby('author')['implicated'].nunique().nsmallest(2)\n"
   ]
  },
  {
   "cell_type": "code",
   "execution_count": 506,
   "metadata": {},
   "outputs": [
    {
     "data": {
      "text/plain": [
       "Text(0.5, 1.0, 'author with most experience and their bug percentage')"
      ]
     },
     "execution_count": 506,
     "metadata": {},
     "output_type": "execute_result"
    },
    {
     "data": {
      "image/png": "[encoded data removed]",
      "text/plain": [
       "<Figure size 432x288 with 1 Axes>"
      ]
     },
     "metadata": {
      "needs_background": "light"
     },
     "output_type": "display_data"
    }
   ],
   "source": [
    "\n",
    "for author in topContributors.index:\n",
    "    currentMatrix = experienceCommits[experienceCommits.author ==author]\n",
    "    maxLineSum = currentMatrix.linesSum.max()\n",
    "    maxLineSum\n",
    "    xSeries = currentMatrix.linesSum*100/maxLineSum\n",
    "    xSeries\n",
    "\n",
    "    maxBuggySum = currentMatrix.buggyLinesSum.max()\n",
    "    maxBuggySum\n",
    "    ySeries = currentMatrix.buggyLinesSum*100/maxBuggySum\n",
    "    ySeries\n",
    "    \n",
    "    pt.plot(xSeries, ySeries, label= str(author))\n",
    "    pt.legend(bbox_to_anchor=(1.05, 1), loc=2, borderaxespad=0.)\n",
    "    \n",
    "pt.title(\"author with most experience and their bug percentage\")"
   ]
  },
  {
   "cell_type": "code",
   "execution_count": 507,
   "metadata": {},
   "outputs": [
    {
     "data": {
      "text/plain": [
       "author\n",
       "Robert Joseph Evans    10\n",
       "Aaron Myers            11\n",
       "Eli Collins            12\n",
       "Todd Lipcon            23\n",
       "Haohui Mai             28\n",
       "Name: implicated, dtype: int64"
      ]
     },
     "execution_count": 507,
     "metadata": {},
     "output_type": "execute_result"
    }
   ],
   "source": [
    "topContributors= experienceCommits.groupby('author')['commit']\n",
    "topContributors=topContributors.nunique().nlargest(10)\n",
    "topContributors.columns=['somethingelse']\n",
    "topContributors\n",
    "tempBuggy= dF.loc[dF['author'].isin(topContributors.index)]\n",
    "bottomBuggyContributor = tempBuggy.groupby('author')['implicated'].nunique().nsmallest(5)\n",
    "bottomBuggyContributor"
   ]
  },
  {
   "cell_type": "code",
   "execution_count": 509,
   "metadata": {},
   "outputs": [
    {
     "data": {
      "text/plain": [
       "Text(0.5, 1.0, 'author with most experience and least bugs and their bug percentage')"
      ]
     },
     "execution_count": 509,
     "metadata": {},
     "output_type": "execute_result"
    },
    {
     "data": {
      "image/png": "[encoded data removed]",
      "text/plain": [
       "<Figure size 432x288 with 1 Axes>"
      ]
     },
     "metadata": {
      "needs_background": "light"
     },
     "output_type": "display_data"
    }
   ],
   "source": [
    "for author in bottomBuggyContributor.index:\n",
    "    currentMatrix = experienceCommits[experienceCommits.author ==author]\n",
    "    maxLineSum = currentMatrix.linesSum.max()\n",
    "    maxLineSum\n",
    "    xSeries = currentMatrix.linesSum*100/maxLineSum\n",
    "    xSeries\n",
    "\n",
    "    maxBuggySum = currentMatrix.buggyLinesSum.max()\n",
    "    maxBuggySum\n",
    "    ySeries = currentMatrix.buggyLinesSum*100/maxBuggySum\n",
    "    ySeries\n",
    "    \n",
    "    pt.plot(xSeries, ySeries, label= str(author))\n",
    "    pt.legend(bbox_to_anchor=(1.05, 1), loc=2, borderaxespad=0.)\n",
    "    \n",
    "pt.title(\"author with most experience and least bugs and their bug percentage\")"
   ]
  },
  {
   "cell_type": "code",
   "execution_count": 510,
   "metadata": {},
   "outputs": [],
   "source": [
    "data= dF.groupby('author')['implicated'].nunique()\n",
    "authorDf = pd.DataFrame(data)\n",
    "bottomBugyContributers= authorDf.implicated.nsmallest(5)"
   ]
  },
  {
   "cell_type": "code",
   "execution_count": 511,
   "metadata": {},
   "outputs": [
    {
     "data": {
      "text/plain": [
       "Text(0.5, 1.0, 'author with most experience and least bugs and their bug percentage')"
      ]
     },
     "execution_count": 511,
     "metadata": {},
     "output_type": "execute_result"
    },
    {
     "data": {
      "image/png": "[encoded data removed]",
      "text/plain": [
       "<Figure size 432x288 with 1 Axes>"
      ]
     },
     "metadata": {
      "needs_background": "light"
     },
     "output_type": "display_data"
    }
   ],
   "source": [
    "for author in bottomBugyContributers.index:\n",
    "    currentMatrix = experienceCommits[experienceCommits.author ==author]\n",
    "    maxLineSum = currentMatrix.linesSum.max()\n",
    "    maxLineSum\n",
    "    xSeries = currentMatrix.linesSum*100/maxLineSum\n",
    "    xSeries\n",
    "\n",
    "    maxBuggySum = currentMatrix.buggyLinesSum.max()\n",
    "    maxBuggySum\n",
    "    ySeries = currentMatrix.buggyLinesSum*100/maxBuggySum\n",
    "    ySeries\n",
    "    \n",
    "    pt.plot(xSeries, ySeries, label= str(author))\n",
    "    pt.legend(bbox_to_anchor=(1.05, 1), loc=2, borderaxespad=0.)\n",
    "    \n",
    "pt.title(\"author with most experience and least bugs and their bug percentage\")"
   ]
  },
  {
   "cell_type": "code",
   "execution_count": null,
   "metadata": {},
   "outputs": [],
   "source": []
  },
  {
   "cell_type": "code",
   "execution_count": null,
   "metadata": {},
   "outputs": [],
   "source": []
  }
 ],
 "metadata": {
  "kernelspec": {
   "display_name": "Python 3",
   "language": "python",
   "name": "python3"
  },
  "language_info": {
   "codemirror_mode": {
    "name": "ipython",
    "version": 3
   },
   "file_extension": ".py",
   "mimetype": "text/x-python",
   "name": "python",
   "nbconvert_exporter": "python",
   "pygments_lexer": "ipython3",
   "version": "3.7.2"
  }
 },
 "nbformat": 4,
 "nbformat_minor": 2
}
