{
 "cells": [
  {
   "cell_type": "code",
   "execution_count": 262,
   "metadata": {},
   "outputs": [],
   "source": [
    "import pandas as pd\n",
    "import numpy as np\n",
    "from matplotlib import pyplot as pt\n",
    "import json"
   ]
  },
  {
   "cell_type": "code",
   "execution_count": 453,
   "metadata": {},
   "outputs": [],
   "source": [
    "jsonFile= open('projectData/resolvedIssues.json', 'r')\n",
    "jsonRawData= jsonFile.read()\n",
    "jsonData = json.loads(jsonRawData)\n",
    "# issues = jsonData['issues']\n",
    "issues = pd.DataFrame(jsonData['issues'])\n",
    "# issues['key']\n",
    "# with open('projectData/buggs.txt', 'w') as test:\n",
    "#     for line in issues['key']:\n",
    "#         test.write(line+\"\\n\")"
   ]
  },
  {
   "cell_type": "code",
   "execution_count": 471,
   "metadata": {},
   "outputs": [],
   "source": [
    "gitLog= open('projectData/issueList.json', 'r')\n",
    "gitData = json.load(gitLog)\n",
    "filteredDict = {k:v for k,v in gitData.items() if k[:6]=='HADOOP'}\n",
    "gitIssues = pd.Series(list(filteredDict.keys()))\n",
    "\n",
    "a=[]\n",
    "for x in issues['key']:\n",
    "    for y in gitIssues:\n",
    "        if x==y:\n",
    "            a.append(x)\n",
    "\n",
    "finalGitDict= {k:v for k,v in filteredDict.items() if k in a}\n",
    "\n",
    "\n",
    "# with open(\"projectData/filteredGitLog.json\", 'w+') as f:\n",
    "#     json.dump(finalGitDict, f)\n",
    "    "
   ]
  },
  {
   "cell_type": "code",
   "execution_count": 458,
   "metadata": {},
   "outputs": [],
   "source": [
    "import pickle\n",
    "df = pd.read_pickle(\"projectData/authorExperienceMatrix.p\")\n",
    "dF = pd.DataFrame(df.items())\n",
    "dF.columns= [\"name\", \"experience\"]\n",
    "dF[['name','commits']]= pd.DataFrame(dF.name.tolist(), index=dF.index)\n",
    "experienceCommits = dF"
   ]
  },
  {
   "cell_type": "code",
   "execution_count": 459,
   "metadata": {},
   "outputs": [],
   "source": [
    "from collections import namedtuple\n",
    "AuthorCommitTuple = namedtuple('AuthorCommitTuple', ('author', 'commit'))\n",
    "pd.set_option('display.max_columns', 20)\n",
    "pd.set_option('display.max_rows', 20)\n",
    "pd.set_option('display.max_colwidth', -1)\n",
    "df = pd.read_pickle(\"projectData/defectAuthorMatrix.p\")\n",
    "dF = pd.DataFrame(df, columns= [\"parentCommit\", \"file\", \"lineNumber\", \"author\", \"implicated\"])\n"
   ]
  },
  {
   "cell_type": "code",
   "execution_count": 540,
   "metadata": {},
   "outputs": [],
   "source": [
    "import math\n"
   ]
  },
  {
   "cell_type": "code",
   "execution_count": 560,
   "metadata": {},
   "outputs": [
    {
     "name": "stdout",
     "output_type": "stream",
     "text": [
      "[ 0.   2.5  5.   7.5 10.  12.5 15.  17.5 20. ] <a list of 9 Text yticklabel objects>\n"
     ]
    },
    {
     "data": {
      "text/plain": [
       "([<matplotlib.axis.YTick at 0x12bf1b550>,\n",
       "  <matplotlib.axis.YTick at 0x12be41390>,\n",
       "  <matplotlib.axis.YTick at 0x12bee4dd8>,\n",
       "  <matplotlib.axis.YTick at 0x12bfacb38>,\n",
       "  <matplotlib.axis.YTick at 0x12bfb5198>,\n",
       "  <matplotlib.axis.YTick at 0x12bfb5630>,\n",
       "  <matplotlib.axis.YTick at 0x12bfb5b38>,\n",
       "  <matplotlib.axis.YTick at 0x12bfbc0f0>,\n",
       "  <matplotlib.axis.YTick at 0x12bfbc588>],\n",
       " <a list of 9 Text yticklabel objects>)"
      ]
     },
     "execution_count": 560,
     "metadata": {},
     "output_type": "execute_result"
    },
    {
     "data": {
      "image/png": "[encoded data removed]",
      "text/plain": [
       "<Figure size 432x288 with 1 Axes>"
      ]
     },
     "metadata": {
      "needs_background": "light"
     },
     "output_type": "display_data"
    }
   ],
   "source": [
    "data= dF.groupby('author')['implicated'].nunique()\n",
    "authorDf = pd.DataFrame(data)\n",
    "authorDf= authorDf.reset_index()\n",
    "authorDf.implicated\n",
    "# pt.hist(authorDf.implicated, bins=10)\n",
    "\n",
    "a=[10,10,2,3]\n",
    "# pt.hist(a, bins=8)\n",
    "# data\n",
    "# authorDf.implicated.drop_index()\n",
    "topBugyContributers= authorDf.implicated\n",
    "# # topBugyContributers= authorDf.sort_values('implicated', ascending=False).nlargest(20)\n",
    "# print(topBugyContributers)\n",
    "\n",
    "# yint = range(20)\n",
    "topBugyContributers.hist(bins=15, grid=False)\n",
    "locs, label= pt.yticks()\n",
    "print(locs, label)\n",
    "yint=[]\n",
    "for each in locs:\n",
    "    yint.append(int(each))\n",
    "pt.yticks(yint)\n",
    "\n",
    "# data.sort_values(by='count')\n",
    "# authurDataForPlot = authorDf.reset_index(drop=True)\n",
    "# authurDataForPlot.hist(authorDf.implicated, bins=10)"
   ]
  },
  {
   "cell_type": "code",
   "execution_count": 467,
   "metadata": {},
   "outputs": [],
   "source": [
    "implicatedList = dF['implicated'].tolist()\n",
    "# # dF[['name','commits']]= pd.DataFrame(dF.name.tolist(), index=dF.index)\n",
    "\n",
    "tempList=[]\n",
    "commits=experienceCommits['commits'].tolist()\n",
    "for x in commits:\n",
    "    if x in implicatedList:\n",
    "        tempList.append([x, True])\n",
    "    else:\n",
    "        tempList.append([x, False])\n",
    "        \n",
    "\n",
    "# print(len(tempList))\n",
    "s=pd.DataFrame(tempList, columns=['commit', 'buggy'])\n",
    "experienceCommits[['buggy']]=pd.DataFrame(s['buggy'])\n",
    "\n",
    "experienceCommits\n",
    "# experienceCommits\n",
    "\n",
    "experienceCommits['buggy'] = experienceCommits.buggy.astype(int)\n",
    "# alejandroBuggy = experienceCommits.loc[(experienceCommits['name']=='Alejandro Abdelnur') & (experienceCommits[\"buggy\"]==1)]\n",
    "# dF.loc[dF['author']=='Mahadev Konar'][['implicated', index=range(40)]\n",
    "# b= experienceCommits.loc[experienceCommits['name']=='Mahadev Konar']['commits']\n",
    "\n",
    "# pt.plot(experienceCommits)\n",
    "\n",
    "# dF.loc[dF['author']=='Mahadev Konar'].count()"
   ]
  },
  {
   "cell_type": "code",
   "execution_count": 567,
   "metadata": {},
   "outputs": [
    {
     "name": "stdout",
     "output_type": "stream",
     "text": [
      "author name 0\n",
      "author name 1\n",
      "author name 2\n",
      "author name 3\n",
      "author name 4\n",
      "author name 5\n",
      "author name 6\n",
      "author name 7\n",
      "author name 8\n",
      "author name 9\n",
      "author name 10\n",
      "author name 11\n",
      "author name 12\n",
      "author name 13\n",
      "author name 14\n",
      "author name 15\n",
      "author name 16\n",
      "author name 17\n",
      "author name 18\n",
      "author name 19\n",
      "author name 20\n",
      "author name 21\n",
      "author name 22\n",
      "author name 23\n",
      "author name 24\n",
      "author name 25\n",
      "author name 26\n",
      "author name 27\n",
      "author name 28\n",
      "author name 29\n",
      "author name 30\n",
      "author name 31\n",
      "author name 32\n",
      "author name 33\n"
     ]
    },
    {
     "data": {
      "text/plain": [
       "[]"
      ]
     },
     "execution_count": 567,
     "metadata": {},
     "output_type": "execute_result"
    },
    {
     "data": {
      "image/png": "[encoded data removed]",
      "text/plain": [
       "<Figure size 432x288 with 1 Axes>"
      ]
     },
     "metadata": {
      "needs_background": "light"
     },
     "output_type": "display_data"
    }
   ],
   "source": [
    "tempBuggy=[]\n",
    "for author in topBugyContributers.index:\n",
    "    tempBuggy= experienceCommits.loc[(experienceCommits['name']==author) & (experienceCommits[\"buggy\"]==1)]\n",
    "    tempDf = pd.DataFrame(tempBuggy['buggy'].cumsum())\n",
    "#     tempBuggy[['cumBuggy']]=0\n",
    "    tempBuggy[['cumBuggy']]= tempDf\n",
    "    print(\"author name\", author)\n",
    "    pt.plot(tempBuggy['experience'], tempBuggy['cumBuggy'], label= str(author))\n",
    "    pt.legend(bbox_to_anchor=(1.05, 1), loc=2, borderaxespad=0.)\n",
    "    \n",
    "    \n",
    "pt.plot()\n",
    "\n",
    "# pt.savefig('defectExperienceDiff.pdf', bbox_inches=\"tight\")\n"
   ]
  },
  {
   "cell_type": "code",
   "execution_count": null,
   "metadata": {},
   "outputs": [],
   "source": []
  }
 ],
 "metadata": {
  "kernelspec": {
   "display_name": "Python 3",
   "language": "python",
   "name": "python3"
  },
  "language_info": {
   "codemirror_mode": {
    "name": "ipython",
    "version": 3
   },
   "file_extension": ".py",
   "mimetype": "text/x-python",
   "name": "python",
   "nbconvert_exporter": "python",
   "pygments_lexer": "ipython3",
   "version": "3.7.2"
  }
 },
 "nbformat": 4,
 "nbformat_minor": 2
}
