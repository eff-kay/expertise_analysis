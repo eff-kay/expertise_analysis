{
 "cells": [
  {
   "cell_type": "code",
   "execution_count": 14,
   "metadata": {},
   "outputs": [],
   "source": [
    "import pandas as pd\n",
    "import numpy as np\n",
    "from matplotlib import pyplot as pt\n",
    "import json"
   ]
  },
  {
   "cell_type": "code",
   "execution_count": 12,
   "metadata": {},
   "outputs": [],
   "source": [
    "jsonFile= open('projectData/resolvedIssues.json', 'r')\n",
    "jsonRawData= jsonFile.read()\n",
    "jsonData = json.loads(jsonRawData)\n",
    "# issues = jsonData['issues']\n",
    "issues = pd.DataFrame(jsonData['issues'])\n",
    "# issues['key']\n",
    "# with open('projectData/buggs.txt', 'w') as test:\n",
    "#     for line in issues['key']:\n",
    "#         test.write(line+\"\\n\")"
   ]
  },
  {
   "cell_type": "code",
   "execution_count": 16,
   "metadata": {},
   "outputs": [
    {
     "data": {
      "text/plain": [
       "['HADOOP-12001',\n",
       " 'HADOOP-11917',\n",
       " 'HADOOP-12202',\n",
       " 'HADOOP-12302',\n",
       " 'HADOOP-6498',\n",
       " 'HADOOP-6460',\n",
       " 'HADOOP-11962',\n",
       " 'HADOOP-11969',\n",
       " 'HADOOP-12004',\n",
       " 'HADOOP-12054',\n",
       " 'HADOOP-6502',\n",
       " 'HADOOP-7567',\n",
       " 'HADOOP-5611',\n",
       " 'HADOOP-12173',\n",
       " 'HADOOP-7165',\n",
       " 'HADOOP-10873',\n",
       " 'HADOOP-11859',\n",
       " 'HADOOP-11936',\n",
       " 'HADOOP-12239',\n",
       " 'HADOOP-9729',\n",
       " 'HADOOP-10945',\n",
       " 'HADOOP-11120',\n",
       " 'HADOOP-11328',\n",
       " 'HADOOP-11581',\n",
       " 'HADOOP-11704',\n",
       " 'HADOOP-11797',\n",
       " 'HADOOP-11800',\n",
       " 'HADOOP-11821',\n",
       " 'HADOOP-11848',\n",
       " 'HADOOP-11861',\n",
       " 'HADOOP-11864',\n",
       " 'HADOOP-11870',\n",
       " 'HADOOP-11877',\n",
       " 'HADOOP-11878',\n",
       " 'HADOOP-11885',\n",
       " 'HADOOP-11889',\n",
       " 'HADOOP-11900',\n",
       " 'HADOOP-11924',\n",
       " 'HADOOP-11926',\n",
       " 'HADOOP-11927',\n",
       " 'HADOOP-11928',\n",
       " 'HADOOP-11959',\n",
       " 'HADOOP-11991',\n",
       " 'HADOOP-11994',\n",
       " 'HADOOP-12017',\n",
       " 'HADOOP-12019',\n",
       " 'HADOOP-12042',\n",
       " 'HADOOP-12056',\n",
       " 'HADOOP-12073',\n",
       " 'HADOOP-12076',\n",
       " 'HADOOP-12088',\n",
       " 'HADOOP-12089',\n",
       " 'HADOOP-12095',\n",
       " 'HADOOP-12116',\n",
       " 'HADOOP-12119',\n",
       " 'HADOOP-12124',\n",
       " 'HADOOP-12154',\n",
       " 'HADOOP-12159',\n",
       " 'HADOOP-12171',\n",
       " 'HADOOP-12175',\n",
       " 'HADOOP-12201',\n",
       " 'HADOOP-12237',\n",
       " 'HADOOP-12268',\n",
       " 'HADOOP-11296']"
      ]
     },
     "execution_count": 16,
     "metadata": {},
     "output_type": "execute_result"
    }
   ],
   "source": [
    "gitLog= open('projectData/issueList.json', 'r')\n",
    "gitData = json.load(gitLog)\n",
    "filteredDict = {k:v for k,v in gitData.items() if k[:6]=='HADOOP' and k in issues['key']}\n",
    "\n",
    "gitIssues = pd.Series(list(filteredDict.keys()))"
   ]
  },
  {
   "cell_type": "code",
   "execution_count": null,
   "metadata": {},
   "outputs": [],
   "source": []
  }
 ],
 "metadata": {
  "kernelspec": {
   "display_name": "Python 3",
   "language": "python",
   "name": "python3"
  },
  "language_info": {
   "codemirror_mode": {
    "name": "ipython",
    "version": 3
   },
   "file_extension": ".py",
   "mimetype": "text/x-python",
   "name": "python",
   "nbconvert_exporter": "python",
   "pygments_lexer": "ipython3",
   "version": "3.7.2"
  }
 },
 "nbformat": 4,
 "nbformat_minor": 2
}
