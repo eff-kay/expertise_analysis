{
 "cells": [
  {
   "cell_type": "code",
   "execution_count": 14,
   "metadata": {},
   "outputs": [],
   "source": [
    "import pandas as pd\n",
    "import numpy as np\n",
    "from matplotlib import pyplot as pt\n",
    "import json"
   ]
  },
  {
   "cell_type": "code",
   "execution_count": 12,
   "metadata": {},
   "outputs": [],
   "source": [
    "jsonFile= open('projectData/resolvedIssues.json', 'r')\n",
    "jsonRawData= jsonFile.read()\n",
    "jsonData = json.loads(jsonRawData)\n",
    "# issues = jsonData['issues']\n",
    "issues = pd.DataFrame(jsonData['issues'])\n",
    "# issues['key']\n",
    "# with open('projectData/buggs.txt', 'w') as test:\n",
    "#     for line in issues['key']:\n",
    "#         test.write(line+\"\\n\")"
   ]
  },
  {
   "cell_type": "code",
   "execution_count": null,
   "metadata": {},
   "outputs": [],
   "source": [
    "gitLog= open('projectData/issueList.json', 'r')\n",
    "gitData = json.load(gitLog)\n",
    "filteredDict = {k:v for k,v in gitData.items() if k[:6]=='HADOOP'}\n",
    "gitIssues = pd.Series(list(filteredDict.keys()))\n",
    "\n",
    "a=[]\n",
    "for x in issues['key']:\n",
    "    for y in gitIssues:\n",
    "        if x==y:\n",
    "            a.append(x)\n",
    "\n",
    "finalGitDict= {k:v for k,v in filteredDict.items() if k in a}\n",
    "finalGitDict\n",
    "\n",
    "# with open(\"projectData/filteredGitLog.json\", 'w+') as f:\n",
    "#     json.dump(finalGitDict, f)\n",
    "    "
   ]
  },
  {
   "cell_type": "code",
   "execution_count": null,
   "metadata": {},
   "outputs": [],
   "source": []
  }
 ],
 "metadata": {
  "kernelspec": {
   "display_name": "Python 3",
   "language": "python",
   "name": "python3"
  },
  "language_info": {
   "codemirror_mode": {
    "name": "ipython",
    "version": 3
   },
   "file_extension": ".py",
   "mimetype": "text/x-python",
   "name": "python",
   "nbconvert_exporter": "python",
   "pygments_lexer": "ipython3",
   "version": "3.7.2"
  }
 },
 "nbformat": 4,
 "nbformat_minor": 2
}
